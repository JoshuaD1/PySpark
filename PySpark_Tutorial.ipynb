{
  "cells": [
    {
      "cell_type": "markdown",
      "metadata": {
        "id": "view-in-github",
        "colab_type": "text"
      },
      "source": [
        "<a href=\"https://colab.research.google.com/github/JoshuaD1/PySpark/blob/main/PySpark_Tutorial.ipynb\" target=\"_parent\"><img src=\"https://colab.research.google.com/assets/colab-badge.svg\" alt=\"Open In Colab\"/></a>"
      ]
    },
    {
      "cell_type": "markdown",
      "metadata": {
        "id": "O6nFUTTp6Llg"
      },
      "source": [
        "# [PySpark Tutorial](https://sparkbyexamples.com/pyspark-tutorial/)\n",
        "\n",
        "*   Spark is useful for applications that require a highly distributed persistent, and pipelined processing.\n",
        "*   Start a project in Pandas with a limited sample (**less than 1 millions rows and 1000 columns**) to explore and migrate to Spark.\n",
        "*   Spark is useful for **Natural Language Processing and Computer Vision** applications, which typically require alot of calculations."
      ]
    },
    {
      "cell_type": "markdown",
      "metadata": {
        "id": "WtDrQsQdI2Tg"
      },
      "source": [
        "## Libraries\n"
      ]
    },
    {
      "cell_type": "code",
      "execution_count": null,
      "metadata": {
        "id": "9sr8qEOFIiir"
      },
      "outputs": [],
      "source": [
        "!pip install pyspark"
      ]
    },
    {
      "cell_type": "code",
      "execution_count": null,
      "metadata": {
        "id": "o40agHlyHcQV"
      },
      "outputs": [],
      "source": [
        "import pyspark\n",
        "from pyspark.sql import SparkSession\n",
        "from pyspark.sql.types import *\n",
        "from pyspark.sql import functions as F\n",
        "from pyspark.ml.feature import *\n",
        "from pyspark.ml.regression import *\n",
        "\n",
        "import pandas as pd\n",
        "import numpy as np\n",
        "from sklearn import datasets"
      ]
    },
    {
      "cell_type": "markdown",
      "metadata": {
        "id": "nO3zYuP0Qidt"
      },
      "source": [
        "## Functions"
      ]
    },
    {
      "cell_type": "code",
      "execution_count": null,
      "metadata": {
        "id": "U03sPfMNQjEe"
      },
      "outputs": [],
      "source": [
        "# adjust data types\n",
        "def convertColumn(df, columns, newType):\n",
        "  for col in columns: \n",
        "     df = df.withColumn(col, df[col].cast(newType))\n",
        "  return df"
      ]
    },
    {
      "cell_type": "markdown",
      "metadata": {
        "id": "SxJQcav_Jz3G"
      },
      "source": [
        "## Part 1: Creating Dataframe\n",
        "- Retrieving Data\n",
        "- Visualizing Dataframe\n",
        "- Manipulating Dataframe"
      ]
    },
    {
      "cell_type": "markdown",
      "metadata": {
        "id": "tXsD0yQpNOrQ"
      },
      "source": [
        "### Retrieving Data "
      ]
    },
    {
      "cell_type": "code",
      "execution_count": null,
      "metadata": {
        "id": "nHbg7c-0PaXB"
      },
      "outputs": [],
      "source": [
        "# start a spark session\n",
        "spark = SparkSession.builder.appName(\"Practice\").getOrCreate()\n",
        "\n",
        "# checking spark session\n",
        "spark"
      ]
    },
    {
      "cell_type": "code",
      "execution_count": null,
      "metadata": {
        "id": "u7F_ztBYpSEE"
      },
      "outputs": [],
      "source": [
        "# store housing dataset\n",
        "housing_df = datasets.fetch_california_housing()\n",
        "\n",
        "# show housing dataset info\n",
        "[print(k, v, '\\n') for k,v in housing_df.items()]"
      ]
    },
    {
      "cell_type": "code",
      "execution_count": null,
      "metadata": {
        "id": "ebI37m7UOkHD"
      },
      "outputs": [],
      "source": [
        "# store dataset in pandas dataframe\n",
        "df = pd.DataFrame(data=housing_df.data, columns=housing_df.feature_names)\n",
        "df['y'] = housing_df.target\n",
        "\n",
        "# convert between spark_df & pandas_df\n",
        "spark_df = spark.createDataFrame(df.copy()) \n",
        "pandas_df = spark_df.toPandas()\n",
        "\n",
        "# remove 1st row of dummy headers for CSV files\n",
        "#spark_df  = spark.read.option('header','true').csv('file_path')"
      ]
    },
    {
      "cell_type": "markdown",
      "metadata": {
        "id": "cffPaKdcO5Fa"
      },
      "source": [
        "Dataframe Info & [Data Types](https://sparkbyexamples.com/spark/spark-sql-dataframe-data-types/)"
      ]
    },
    {
      "cell_type": "code",
      "execution_count": null,
      "metadata": {
        "id": "oNFu04xePBCV"
      },
      "outputs": [],
      "source": [
        "# stats between spark_df & pandas_df\n",
        "spark_df.describe().show()\n",
        "pandas_df.describe()"
      ]
    },
    {
      "cell_type": "code",
      "execution_count": null,
      "metadata": {
        "id": "TnznQIMg0naK"
      },
      "outputs": [],
      "source": [
        "# make copy of spark_df \n",
        "df = spark_df.alias('df')\n",
        "\n",
        "# check if copy & orignal are same object\n",
        "id(df) == id(spark_df)"
      ]
    },
    {
      "cell_type": "code",
      "execution_count": null,
      "metadata": {
        "id": "WLYPkGMwPCFU"
      },
      "outputs": [],
      "source": [
        "# identify data types\n",
        "df.printSchema()\n",
        "df.dtypes"
      ]
    },
    {
      "cell_type": "code",
      "execution_count": null,
      "metadata": {
        "id": "DWNb61YpSFAQ"
      },
      "outputs": [],
      "source": [
        "# change dtype of certain columns\n",
        "convertColumn(df, df.columns, FloatType()).printSchema()"
      ]
    },
    {
      "cell_type": "markdown",
      "metadata": {
        "id": "f_jp_ePmSgKs"
      },
      "source": [
        "### Visualizing Dataframe"
      ]
    },
    {
      "cell_type": "code",
      "execution_count": null,
      "metadata": {
        "id": "EzDiOE0rSfuV"
      },
      "outputs": [],
      "source": [
        "# look at first few rows\n",
        "df.head(2)"
      ]
    },
    {
      "cell_type": "code",
      "execution_count": null,
      "metadata": {
        "id": "-CgYYa6STzgS"
      },
      "outputs": [],
      "source": [
        "# look at first few rows another way\n",
        "df.show(n=2,truncate=10, vertical=True)"
      ]
    },
    {
      "cell_type": "code",
      "source": [
        "df.distinct().show()"
      ],
      "metadata": {
        "id": "VcCdsD5LgtQM"
      },
      "execution_count": null,
      "outputs": []
    },
    {
      "cell_type": "code",
      "execution_count": null,
      "metadata": {
        "id": "2bn5fb7hUygS"
      },
      "outputs": [],
      "source": [
        "# show columns\n",
        "print(df.columns[:], '\\n')\n",
        "\n",
        "# ref column by name\n",
        "print(df['MedInc'], '\\n')"
      ]
    },
    {
      "cell_type": "code",
      "execution_count": null,
      "metadata": {
        "id": "_ZvErb7lUuHq"
      },
      "outputs": [],
      "source": [
        "# selecting data & target columns\n",
        "df.select(df.columns[:-1]).show()\n",
        "df.select(df.columns[-1:]).show()"
      ]
    },
    {
      "cell_type": "markdown",
      "metadata": {
        "id": "bsu0OaUDw0zC"
      },
      "source": [
        "### Manipulating Dataframe"
      ]
    },
    {
      "cell_type": "code",
      "execution_count": null,
      "metadata": {
        "id": "GJf2THtKw0zP"
      },
      "outputs": [],
      "source": [
        "# renaming columns\n",
        "df.withColumnRenamed('HouseAge','HouseLife').show()"
      ]
    },
    {
      "cell_type": "code",
      "execution_count": null,
      "metadata": {
        "id": "h_BBgH3Cw0zQ"
      },
      "outputs": [],
      "source": [
        "# adding new columns based on existing columns\n",
        "df.withColumn('TripleSpace', df['AveBedrms']*3).show()"
      ]
    },
    {
      "cell_type": "code",
      "execution_count": null,
      "metadata": {
        "id": "fFZcMI9Kw0zQ"
      },
      "outputs": [],
      "source": [
        "# add new column with constants\n",
        "df.withColumn(\"Rewards\", F.lit(None)).show()\n",
        "df.withColumn(\"Constant\", F.lit(1.0)).show()\n",
        "df.withColumn(\"Constant\", F.lit('fill')).show()"
      ]
    },
    {
      "cell_type": "code",
      "execution_count": null,
      "metadata": {
        "id": "6BHhtcepw0zR"
      },
      "outputs": [],
      "source": [
        "# removing columns\n",
        "df.drop('HouseAge','Population').show()"
      ]
    },
    {
      "cell_type": "markdown",
      "metadata": {
        "id": "9vnYxyNEbal3"
      },
      "source": [
        "## Part 2: Filtering & Sorting\n",
        "* [Filtering Dataframe](https://sparkbyexamples.com/pyspark/pyspark-where-filter/)\n",
        "* Filtering by conditions & arrays"
      ]
    },
    {
      "cell_type": "markdown",
      "metadata": {
        "id": "FdX3XW1m8MMU"
      },
      "source": [
        "### Filtering Dataframe"
      ]
    },
    {
      "cell_type": "code",
      "execution_count": null,
      "metadata": {
        "id": "uCaD9E5J6aHg"
      },
      "outputs": [],
      "source": [
        "df.describe().show()"
      ]
    },
    {
      "cell_type": "code",
      "execution_count": null,
      "metadata": {
        "id": "xw1y5xQj6uSY"
      },
      "outputs": [],
      "source": [
        "# filter column with condition\n",
        "df.filter(df['AveRooms'] > 3).show()\n",
        "\n",
        "# filter column with oposite condition\n",
        "df.filter(~(df['AveRooms'] > 3)).show()\n",
        "\n",
        "# filter column with multiple conditions\n",
        "df.filter( (df['HouseAge'] > 51.0) & (df['Latitude'] == 37.88) ).show()\n",
        "\n",
        "# filter based on values\n",
        "values = [1.0, 52.0]\n",
        "df.filter(df['HouseAge'].isin(values)).show()\n",
        "\n",
        "# filter column using SQL col() function\n",
        "df.filter(F.col('HouseAge') == 1.0).show()"
      ]
    },
    {
      "cell_type": "markdown",
      "metadata": {
        "id": "G91CNEqjbi-O"
      },
      "source": [
        "### Odering & Sorting\n",
        "More details can be found [here](https://sparkbyexamples.com/pyspark/pyspark-orderby-and-sort-explained/)"
      ]
    },
    {
      "cell_type": "code",
      "execution_count": null,
      "metadata": {
        "id": "Lh4GI81Fbja9"
      },
      "outputs": [],
      "source": [
        "# sorting using the sort() function\n",
        "df.sort(df['y'], df['Population']).show()\n",
        "\n",
        "# sort by descending & ascending \n",
        "df.sort(df['y'].asc(), df['Population'].desc()).show()"
      ]
    },
    {
      "cell_type": "code",
      "execution_count": null,
      "metadata": {
        "id": "unvNTQOYoSaz"
      },
      "outputs": [],
      "source": [
        "# sorting using groupBy and aggregate\n",
        "df.groupBy('HouseAge').sum().show()\n",
        "\n",
        "df.groupBy('HouseAge').avg().show()\n",
        "\n",
        "df.groupBy('HouseAge').mean().show()\n",
        "\n",
        "df.groupBy('HouseAge').count().show()"
      ]
    },
    {
      "cell_type": "code",
      "source": [
        "df.columns\n",
        "df.groupBy('HouseAge').max().show()"
      ],
      "metadata": {
        "id": "UXZna4HcfBGF"
      },
      "execution_count": null,
      "outputs": []
    },
    {
      "cell_type": "markdown",
      "metadata": {
        "id": "Nc5n1Jz9Wyt0"
      },
      "source": [
        "## Part 3: [Updating Dataframe](https://sparkbyexamples.com/pyspark/pyspark-update-a-column-with-value/)\n",
        "- Dropping / Replacing Data\n",
        "- Imputing Missing Values"
      ]
    },
    {
      "cell_type": "markdown",
      "metadata": {
        "id": "_L7yvwwXa1PE"
      },
      "source": [
        "### [Missing Points](https://www.youtube.com/watch?v=wXx58-mDOKI)"
      ]
    },
    {
      "cell_type": "code",
      "source": [
        "# add missing values\n",
        "df_miss = df.replace(41.0, None, 'HouseAge')\n",
        "\n",
        "# add index column\n",
        "df_index = df_miss.withColumn(\"id\", F.monotonically_increasing_id())"
      ],
      "metadata": {
        "id": "WiglLz5j1pzI"
      },
      "execution_count": null,
      "outputs": []
    },
    {
      "cell_type": "markdown",
      "source": [
        "check duplicate rows"
      ],
      "metadata": {
        "id": "Bt7POpJttDv-"
      }
    },
    {
      "cell_type": "code",
      "source": [
        "print(f\"number of rows: {df.count()}\")\n",
        "print(f\"number of distinct rows: {df.distinct().count()}\")"
      ],
      "metadata": {
        "id": "mctkNiNjsxgl"
      },
      "execution_count": null,
      "outputs": []
    },
    {
      "cell_type": "code",
      "source": [
        "# drop duplicate rows\n",
        "df.dropDuplicates().show()"
      ],
      "metadata": {
        "id": "FwctdTU9vHMN"
      },
      "execution_count": null,
      "outputs": []
    },
    {
      "cell_type": "code",
      "source": [
        "print(f\"number of rows: {df.count()}\")\n",
        "\n",
        "# check distinct other than specific column\n",
        "print(f\"number of distinct rows: {df.select([col for col in df.columns if col != 'id']).distinct().count()}\")"
      ],
      "metadata": {
        "id": "XgyJyI6BvIB2"
      },
      "execution_count": null,
      "outputs": []
    },
    {
      "cell_type": "code",
      "source": [
        "df.dropDuplicates(subset=[col for col in df.columns if col != 'id']).show()\n",
        "\n",
        "# check distinct other than specific column\n",
        "print(f\"number of rows: {df.dropDuplicates(subset=[col for col in df.columns if col != 'id']).count()}\")"
      ],
      "metadata": {
        "id": "xUuQ9CB1yGN2"
      },
      "execution_count": null,
      "outputs": []
    },
    {
      "cell_type": "markdown",
      "source": [
        "check number of missing points in per row/column"
      ],
      "metadata": {
        "id": "e-ty1DtE0Ukf"
      }
    },
    {
      "cell_type": "code",
      "source": [
        "# number of missing values in per row\n",
        "df_index.rdd.map(lambda row: (row['id'], sum([r == None for r in row]))).collect()"
      ],
      "metadata": {
        "id": "yW4S99e_0gX9"
      },
      "execution_count": null,
      "outputs": []
    },
    {
      "cell_type": "code",
      "source": [
        "# % of missing values in per column\n",
        "df_miss.agg(*[(1-F.count(c)/F.count('*')).alias(c+'_miss') for c in df_miss.columns]).show()"
      ],
      "metadata": {
        "colab": {
          "base_uri": "https://localhost:8080/"
        },
        "id": "VSLcKkzu5x6S",
        "outputId": "e608ccf7-46d8-4e1b-a59d-e270eb8bc127"
      },
      "execution_count": 163,
      "outputs": [
        {
          "output_type": "stream",
          "name": "stdout",
          "text": [
            "+-----------+--------------------+-------------+--------------+---------------+-------------+-------------+--------------+------+\n",
            "|MedInc_miss|       HouseAge_miss|AveRooms_miss|AveBedrms_miss|Population_miss|AveOccup_miss|Latitude_miss|Longitude_miss|y_miss|\n",
            "+-----------+--------------------+-------------+--------------+---------------+-------------+-------------+--------------+------+\n",
            "|        0.0|0.014341085271317833|          0.0|           0.0|            0.0|          0.0|          0.0|           0.0|   0.0|\n",
            "+-----------+--------------------+-------------+--------------+---------------+-------------+-------------+--------------+------+\n",
            "\n"
          ]
        }
      ]
    },
    {
      "cell_type": "code",
      "source": [
        "# drop uninformative columns\n",
        "print(f\"number of rows: {df.count()}\")\n",
        "df_miss.dropna(how='any', thresh=1, subset=['HouseAge']).count()"
      ],
      "metadata": {
        "colab": {
          "base_uri": "https://localhost:8080/"
        },
        "id": "l-yugdho8mjU",
        "outputId": "1dc3f351-d06d-4fb3-f9fc-e62182047e58"
      },
      "execution_count": 168,
      "outputs": [
        {
          "output_type": "stream",
          "name": "stdout",
          "text": [
            "number of rows: 20640\n"
          ]
        },
        {
          "output_type": "execute_result",
          "data": {
            "text/plain": [
              "20344"
            ]
          },
          "metadata": {},
          "execution_count": 168
        }
      ]
    },
    {
      "cell_type": "markdown",
      "source": [
        "### Encoding"
      ],
      "metadata": {
        "id": "9EleNN2aCRCe"
      }
    },
    {
      "cell_type": "markdown",
      "source": [
        "encoding values automatically with [imputer](https://spark.apache.org/docs/latest/api/python/reference/api/pyspark.ml.feature.Imputer.html)"
      ],
      "metadata": {
        "id": "qPZRQDgR5NIa"
      }
    },
    {
      "cell_type": "code",
      "execution_count": null,
      "metadata": {
        "id": "c4P3XZvZkO5W"
      },
      "outputs": [],
      "source": [
        "# create classifier\n",
        "imputer = Imputer(strategy='median', inputCols=['HouseAge'], outputCols=['out_HouseAge'])\n",
        "\n",
        "# apply classifier\n",
        "imputer.fit(df_miss).transform(df_miss).show()"
      ]
    },
    {
      "cell_type": "code",
      "execution_count": null,
      "metadata": {
        "id": "ngeP7czDmhFi"
      },
      "outputs": [],
      "source": [
        "print(f\"Strategy: {imputer.getStrategy()}\")\n",
        "print(f\"Error: {imputer.getRelativeError()}\")"
      ]
    },
    {
      "cell_type": "markdown",
      "source": [
        "manually encoding values"
      ],
      "metadata": {
        "id": "pZP5guVP5bpy"
      }
    },
    {
      "cell_type": "code",
      "source": [
        "#Replace 0 for null for all integer columns\n",
        "df_miss.na.fill(value=0).show()\n",
        "\n",
        "#Replace 0 for null on only population column \n",
        "df_miss.na.fill(value=0, subset=[\"HouseAge\"]).show()"
      ],
      "metadata": {
        "colab": {
          "base_uri": "https://localhost:8080/"
        },
        "id": "EMmFf8cB_Ai1",
        "outputId": "74479a5e-ed77-4aa7-b309-c0d6afe208c1"
      },
      "execution_count": 176,
      "outputs": [
        {
          "output_type": "stream",
          "name": "stdout",
          "text": [
            "+------+--------+------------------+------------------+----------+------------------+--------+---------+-----+\n",
            "|MedInc|HouseAge|          AveRooms|         AveBedrms|Population|          AveOccup|Latitude|Longitude|    y|\n",
            "+------+--------+------------------+------------------+----------+------------------+--------+---------+-----+\n",
            "|8.3252|     0.0| 6.984126984126984|1.0238095238095237|     322.0|2.5555555555555554|   37.88|  -122.23|4.526|\n",
            "|8.3014|    21.0| 6.238137082601054|0.9718804920913884|    2401.0| 2.109841827768014|   37.86|  -122.22|3.585|\n",
            "|7.2574|    52.0| 8.288135593220339| 1.073446327683616|     496.0|2.8022598870056497|   37.85|  -122.24|3.521|\n",
            "|5.6431|    52.0|5.8173515981735155|1.0730593607305936|     558.0| 2.547945205479452|   37.85|  -122.25|3.413|\n",
            "|3.8462|    52.0| 6.281853281853282|1.0810810810810811|     565.0|2.1814671814671813|   37.85|  -122.25|3.422|\n",
            "|4.0368|    52.0| 4.761658031088083|1.1036269430051813|     413.0| 2.139896373056995|   37.85|  -122.25|2.697|\n",
            "|3.6591|    52.0|4.9319066147859925|0.9513618677042801|    1094.0|2.1284046692607004|   37.84|  -122.25|2.992|\n",
            "|  3.12|    52.0| 4.797527047913447| 1.061823802163833|    1157.0|1.7882534775888717|   37.84|  -122.25|2.414|\n",
            "|2.0804|    42.0| 4.294117647058823|1.1176470588235294|    1206.0| 2.026890756302521|   37.84|  -122.26|2.267|\n",
            "|3.6912|    52.0| 4.970588235294118|0.9901960784313726|    1551.0| 2.172268907563025|   37.84|  -122.25|2.611|\n",
            "|3.2031|    52.0| 5.477611940298507|1.0796019900497513|     910.0| 2.263681592039801|   37.85|  -122.26|2.815|\n",
            "|3.2705|    52.0| 4.772479564032698|1.0245231607629428|    1504.0|2.0490463215258856|   37.85|  -122.26|2.418|\n",
            "| 3.075|    52.0| 5.322649572649572|1.0128205128205128|    1098.0|2.3461538461538463|   37.85|  -122.26|2.135|\n",
            "|2.6736|    52.0|               4.0|1.0977011494252873|     345.0|1.9827586206896552|   37.84|  -122.26|1.913|\n",
            "|1.9167|    52.0| 4.262903225806451|1.0096774193548388|    1212.0|1.9548387096774194|   37.85|  -122.26|1.592|\n",
            "| 2.125|    50.0| 4.242424242424242| 1.071969696969697|     697.0| 2.640151515151515|   37.85|  -122.26|  1.4|\n",
            "| 2.775|    52.0|5.9395770392749245|1.0483383685800605|     793.0| 2.395770392749245|   37.85|  -122.27|1.525|\n",
            "|2.1202|    52.0| 4.052805280528053| 0.966996699669967|     648.0|2.1386138613861387|   37.85|  -122.27|1.555|\n",
            "|1.9911|    50.0| 5.343675417661098|1.0859188544152745|     990.0|2.3627684964200477|   37.84|  -122.26|1.587|\n",
            "|2.6033|    52.0| 5.465454545454546|1.0836363636363637|     690.0|2.5090909090909093|   37.84|  -122.27|1.629|\n",
            "+------+--------+------------------+------------------+----------+------------------+--------+---------+-----+\n",
            "only showing top 20 rows\n",
            "\n",
            "+------+--------+------------------+------------------+----------+------------------+--------+---------+-----+\n",
            "|MedInc|HouseAge|          AveRooms|         AveBedrms|Population|          AveOccup|Latitude|Longitude|    y|\n",
            "+------+--------+------------------+------------------+----------+------------------+--------+---------+-----+\n",
            "|8.3252|    null| 6.984126984126984|1.0238095238095237|     322.0|2.5555555555555554|   37.88|  -122.23|4.526|\n",
            "|8.3014|    21.0| 6.238137082601054|0.9718804920913884|    2401.0| 2.109841827768014|   37.86|  -122.22|3.585|\n",
            "|7.2574|    52.0| 8.288135593220339| 1.073446327683616|     496.0|2.8022598870056497|   37.85|  -122.24|3.521|\n",
            "|5.6431|    52.0|5.8173515981735155|1.0730593607305936|     558.0| 2.547945205479452|   37.85|  -122.25|3.413|\n",
            "|3.8462|    52.0| 6.281853281853282|1.0810810810810811|     565.0|2.1814671814671813|   37.85|  -122.25|3.422|\n",
            "|4.0368|    52.0| 4.761658031088083|1.1036269430051813|     413.0| 2.139896373056995|   37.85|  -122.25|2.697|\n",
            "|3.6591|    52.0|4.9319066147859925|0.9513618677042801|    1094.0|2.1284046692607004|   37.84|  -122.25|2.992|\n",
            "|  3.12|    52.0| 4.797527047913447| 1.061823802163833|    1157.0|1.7882534775888717|   37.84|  -122.25|2.414|\n",
            "|2.0804|    42.0| 4.294117647058823|1.1176470588235294|    1206.0| 2.026890756302521|   37.84|  -122.26|2.267|\n",
            "|3.6912|    52.0| 4.970588235294118|0.9901960784313726|    1551.0| 2.172268907563025|   37.84|  -122.25|2.611|\n",
            "|3.2031|    52.0| 5.477611940298507|1.0796019900497513|     910.0| 2.263681592039801|   37.85|  -122.26|2.815|\n",
            "|3.2705|    52.0| 4.772479564032698|1.0245231607629428|    1504.0|2.0490463215258856|   37.85|  -122.26|2.418|\n",
            "| 3.075|    52.0| 5.322649572649572|1.0128205128205128|    1098.0|2.3461538461538463|   37.85|  -122.26|2.135|\n",
            "|2.6736|    52.0|               4.0|1.0977011494252873|     345.0|1.9827586206896552|   37.84|  -122.26|1.913|\n",
            "|1.9167|    52.0| 4.262903225806451|1.0096774193548388|    1212.0|1.9548387096774194|   37.85|  -122.26|1.592|\n",
            "| 2.125|    50.0| 4.242424242424242| 1.071969696969697|     697.0| 2.640151515151515|   37.85|  -122.26|  1.4|\n",
            "| 2.775|    52.0|5.9395770392749245|1.0483383685800605|     793.0| 2.395770392749245|   37.85|  -122.27|1.525|\n",
            "|2.1202|    52.0| 4.052805280528053| 0.966996699669967|     648.0|2.1386138613861387|   37.85|  -122.27|1.555|\n",
            "|1.9911|    50.0| 5.343675417661098|1.0859188544152745|     990.0|2.3627684964200477|   37.84|  -122.26|1.587|\n",
            "|2.6033|    52.0| 5.465454545454546|1.0836363636363637|     690.0|2.5090909090909093|   37.84|  -122.27|1.629|\n",
            "+------+--------+------------------+------------------+----------+------------------+--------+---------+-----+\n",
            "only showing top 20 rows\n",
            "\n"
          ]
        }
      ]
    },
    {
      "cell_type": "code",
      "execution_count": 174,
      "metadata": {
        "colab": {
          "base_uri": "https://localhost:8080/"
        },
        "id": "aLyO7gw5fowQ",
        "outputId": "10470596-99fd-4a76-cc91-4c6a2c186845"
      },
      "outputs": [
        {
          "output_type": "stream",
          "name": "stdout",
          "text": [
            "+------+--------+------------------+------------------+----------+------------------+--------+---------+-----+------------+\n",
            "|MedInc|HouseAge|          AveRooms|         AveBedrms|Population|          AveOccup|Latitude|Longitude|    y|HouseMissing|\n",
            "+------+--------+------------------+------------------+----------+------------------+--------+---------+-----+------------+\n",
            "|8.3252|    null| 6.984126984126984|1.0238095238095237|     322.0|2.5555555555555554|   37.88|  -122.23|4.526|         0.0|\n",
            "|8.3014|    21.0| 6.238137082601054|0.9718804920913884|    2401.0| 2.109841827768014|   37.86|  -122.22|3.585|        21.0|\n",
            "|7.2574|    52.0| 8.288135593220339| 1.073446327683616|     496.0|2.8022598870056497|   37.85|  -122.24|3.521|        52.0|\n",
            "|5.6431|    52.0|5.8173515981735155|1.0730593607305936|     558.0| 2.547945205479452|   37.85|  -122.25|3.413|        52.0|\n",
            "|3.8462|    52.0| 6.281853281853282|1.0810810810810811|     565.0|2.1814671814671813|   37.85|  -122.25|3.422|        52.0|\n",
            "|4.0368|    52.0| 4.761658031088083|1.1036269430051813|     413.0| 2.139896373056995|   37.85|  -122.25|2.697|        52.0|\n",
            "|3.6591|    52.0|4.9319066147859925|0.9513618677042801|    1094.0|2.1284046692607004|   37.84|  -122.25|2.992|        52.0|\n",
            "|  3.12|    52.0| 4.797527047913447| 1.061823802163833|    1157.0|1.7882534775888717|   37.84|  -122.25|2.414|        52.0|\n",
            "|2.0804|    42.0| 4.294117647058823|1.1176470588235294|    1206.0| 2.026890756302521|   37.84|  -122.26|2.267|        42.0|\n",
            "|3.6912|    52.0| 4.970588235294118|0.9901960784313726|    1551.0| 2.172268907563025|   37.84|  -122.25|2.611|        52.0|\n",
            "|3.2031|    52.0| 5.477611940298507|1.0796019900497513|     910.0| 2.263681592039801|   37.85|  -122.26|2.815|        52.0|\n",
            "|3.2705|    52.0| 4.772479564032698|1.0245231607629428|    1504.0|2.0490463215258856|   37.85|  -122.26|2.418|        52.0|\n",
            "| 3.075|    52.0| 5.322649572649572|1.0128205128205128|    1098.0|2.3461538461538463|   37.85|  -122.26|2.135|        52.0|\n",
            "|2.6736|    52.0|               4.0|1.0977011494252873|     345.0|1.9827586206896552|   37.84|  -122.26|1.913|        52.0|\n",
            "|1.9167|    52.0| 4.262903225806451|1.0096774193548388|    1212.0|1.9548387096774194|   37.85|  -122.26|1.592|        52.0|\n",
            "| 2.125|    50.0| 4.242424242424242| 1.071969696969697|     697.0| 2.640151515151515|   37.85|  -122.26|  1.4|        50.0|\n",
            "| 2.775|    52.0|5.9395770392749245|1.0483383685800605|     793.0| 2.395770392749245|   37.85|  -122.27|1.525|        52.0|\n",
            "|2.1202|    52.0| 4.052805280528053| 0.966996699669967|     648.0|2.1386138613861387|   37.85|  -122.27|1.555|        52.0|\n",
            "|1.9911|    50.0| 5.343675417661098|1.0859188544152745|     990.0|2.3627684964200477|   37.84|  -122.26|1.587|        50.0|\n",
            "|2.6033|    52.0| 5.465454545454546|1.0836363636363637|     690.0|2.5090909090909093|   37.84|  -122.27|1.629|        52.0|\n",
            "+------+--------+------------------+------------------+----------+------------------+--------+---------+-----+------------+\n",
            "only showing top 20 rows\n",
            "\n"
          ]
        }
      ],
      "source": [
        "# creat new column with missing values replaced\n",
        "df_miss.withColumn(\"HouseMissing\", F.when(F.col(\"HouseAge\").isNull(), 0).otherwise(F.col(\"HouseAge\"))).show()"
      ]
    },
    {
      "cell_type": "code",
      "execution_count": null,
      "metadata": {
        "id": "XcsOpYOpgz6M"
      },
      "outputs": [],
      "source": [
        "# replace values\n",
        "df.replace(41.0, None).show()\n",
        "\n",
        "# replace values in certain column\n",
        "df.replace(41.0, None, 'HouseAge').show()"
      ]
    },
    {
      "cell_type": "code",
      "execution_count": null,
      "metadata": {
        "id": "MWtE3S6ja3x2"
      },
      "outputs": [],
      "source": [
        "# encoding points\n",
        "df.replace(to_replace=[37.88, -122.23], value=[1.0, 1.0]).show()\n",
        "\n",
        "# encoding points in certain column\n",
        "df.replace(to_replace=[21.0, 50.0], value=[1.0, 1.0], subset='HouseAge').show()"
      ]
    },
    {
      "cell_type": "markdown",
      "source": [
        "### Outliers\n",
        "must normalize data"
      ],
      "metadata": {
        "id": "JGKJuLoCC8q8"
      }
    },
    {
      "cell_type": "code",
      "source": [
        "df.describe().show()"
      ],
      "metadata": {
        "colab": {
          "base_uri": "https://localhost:8080/"
        },
        "id": "aBtT388pIIee",
        "outputId": "57bf28f4-4500-4e73-a0de-4031c6f7ddd7"
      },
      "execution_count": 193,
      "outputs": [
        {
          "output_type": "stream",
          "name": "stdout",
          "text": [
            "+-------+------------------+------------------+------------------+------------------+------------------+------------------+------------------+-------------------+------------------+\n",
            "|summary|            MedInc|          HouseAge|          AveRooms|         AveBedrms|        Population|          AveOccup|          Latitude|          Longitude|                 y|\n",
            "+-------+------------------+------------------+------------------+------------------+------------------+------------------+------------------+-------------------+------------------+\n",
            "|  count|             20640|             20640|             20640|             20640|             20640|             20640|             20640|              20640|             20640|\n",
            "|   mean| 3.870671002906976|28.639486434108527| 5.428999742190385| 1.096675149606209|1425.4767441860465|3.0706551594363716|  35.6318614341086|-119.56970445736394|2.0685581690891293|\n",
            "| stddev|1.8998217179452666|12.585557612111632|2.4741731394243245|0.4739108567954673|1132.4621217653405|10.386049562213614|2.1359523974571313| 2.0035317235025842|1.1539561587441383|\n",
            "|    min|            0.4999|               1.0|0.8461538461538461|0.3333333333333333|               3.0|0.6923076923076923|             32.54|            -124.35|           0.14999|\n",
            "|    max|           15.0001|              52.0| 141.9090909090909| 34.06666666666667|           35682.0|1243.3333333333333|             41.95|            -114.31|           5.00001|\n",
            "+-------+------------------+------------------+------------------+------------------+------------------+------------------+------------------+-------------------+------------------+\n",
            "\n"
          ]
        }
      ]
    },
    {
      "cell_type": "code",
      "source": [
        "# create a dictionary for outlier bounds \n",
        "bounds = {}\n",
        "\n",
        "# populate dictionary for each column\n",
        "for c in df.columns:\n",
        "  quantiles = df.approxQuantile(col=c, probabilities=[.25, .75], relativeError=0.05)\n",
        "  print(f'interquartile range for {c}: {quantiles}')\n",
        "  IQR = quantiles[1] - quantiles[0]\n",
        "  bounds[c] = [quantiles[0]-1.5*IQR, quantiles[1]+1.5*IQR]"
      ],
      "metadata": {
        "colab": {
          "base_uri": "https://localhost:8080/"
        },
        "id": "aYrV-woHC-zQ",
        "outputId": "d84580dc-b12a-44e7-9dc0-685d86b9cb3f"
      },
      "execution_count": 195,
      "outputs": [
        {
          "output_type": "stream",
          "name": "stdout",
          "text": [
            "interquartile range for MedInc: [2.4922, 4.5556]\n",
            "interquartile range for HouseAge: [18.0, 36.0]\n",
            "interquartile range for AveRooms: [4.424242424242424, 5.9106529209622]\n",
            "interquartile range for AveBedrms: [1.0077399380804954, 1.089613034623218]\n",
            "interquartile range for Population: [796.0, 1596.0]\n",
            "interquartile range for AveOccup: [2.42816091954023, 3.199124726477024]\n",
            "interquartile range for Latitude: [33.92, 37.57]\n",
            "interquartile range for Longitude: [-121.83, -118.09]\n",
            "interquartile range for y: [1.233, 2.445]\n"
          ]
        }
      ]
    },
    {
      "cell_type": "code",
      "source": [
        "bounds"
      ],
      "metadata": {
        "colab": {
          "base_uri": "https://localhost:8080/"
        },
        "id": "01DHRURRGnJ-",
        "outputId": "a2262850-2014-42b2-87d4-be47eeac7891"
      },
      "execution_count": 191,
      "outputs": [
        {
          "output_type": "execute_result",
          "data": {
            "text/plain": [
              "{'MedInc': [-0.6029000000000004, 7.6507000000000005],\n",
              " 'HouseAge': [-9.0, 63.0],\n",
              " 'AveRooms': [2.19462667916276, 8.140268666041862],\n",
              " 'AveBedrms': [0.8849302932664116, 1.2124226794373019],\n",
              " 'Population': [-404.0, 2796.0],\n",
              " 'AveOccup': [1.2717152091350383, 4.355570436882216],\n",
              " 'Latitude': [28.445000000000004, 43.045],\n",
              " 'Longitude': [-127.44, -112.48000000000002],\n",
              " 'y': [-0.5849999999999995, 4.263]}"
            ]
          },
          "metadata": {},
          "execution_count": 191
        }
      ]
    },
    {
      "cell_type": "markdown",
      "metadata": {
        "id": "HdBTgAscSoQb"
      },
      "source": [
        "## Part 4: Machine Learning"
      ]
    },
    {
      "cell_type": "markdown",
      "metadata": {
        "id": "nv0hCMA77BPv"
      },
      "source": [
        "### Linear Regression"
      ]
    },
    {
      "cell_type": "code",
      "execution_count": null,
      "metadata": {
        "id": "HB5EcdLpEkpH"
      },
      "outputs": [],
      "source": [
        "# check dtype\n",
        "df.printSchema()\n",
        "df.columns[:-1]"
      ]
    },
    {
      "cell_type": "code",
      "execution_count": null,
      "metadata": {
        "id": "ovv50BG4Dolk"
      },
      "outputs": [],
      "source": [
        "# crunch predictors into 1D array\n",
        "predictors = VectorAssembler(inputCols=df.columns[:-1], \n",
        "                             outputCol=\"Independent Features\")\n",
        "output = predictors.transform(df)\n",
        "\n",
        "# show new df & new column\n",
        "predictors.transform(df).show()\n",
        "print(predictors.transform(df).columns[-1:])\n",
        "\n",
        "# finialized dataframe for machine learning\n",
        "predictors.transform(df).select(\"Independent Features\",\"y\").show()\n",
        "finalized_data = predictors.transform(df).select(\"Independent Features\",\"y\")"
      ]
    },
    {
      "cell_type": "code",
      "execution_count": null,
      "metadata": {
        "id": "u-F0Bnk5GvLq"
      },
      "outputs": [],
      "source": [
        "# train test split\n",
        "train_data, test_data = finalized_data.randomSplit([0.75,0.25])\n",
        "\n",
        "# select model \n",
        "regressor = LinearRegression(featuresCol='Independent Features', \n",
        "                             labelCol='y', \n",
        "                             predictionCol='y_pred')\n",
        "# apply model\n",
        "regressor = regressor.fit(train_data)"
      ]
    },
    {
      "cell_type": "code",
      "execution_count": null,
      "metadata": {
        "id": "f6daGKP_Gxsj"
      },
      "outputs": [],
      "source": [
        "# prediction\n",
        "pred_results = regressor.evaluate(test_data)\n",
        "pred_results.predictions.show()"
      ]
    },
    {
      "cell_type": "code",
      "execution_count": null,
      "metadata": {
        "id": "rDIYIJVxG0PK"
      },
      "outputs": [],
      "source": [
        "# regression results\n",
        "print(f\"regressionCoeffs: {regressor.coefficients}\")\n",
        "print(f\"meanAbsoluteError: {round(pred_results.meanAbsoluteError, 3)}\")\n",
        "print(f\"meanSquaredError: {round(pred_results.meanSquaredError, 3)}\")"
      ]
    }
  ],
  "metadata": {
    "colab": {
      "toc_visible": true,
      "provenance": [],
      "mount_file_id": "1hwbcYQm77JAU3k954Wh99bnp1tg1Vs0y",
      "authorship_tag": "ABX9TyOKMKiaulRBtxyt58Ea9+L8",
      "include_colab_link": true
    },
    "kernelspec": {
      "display_name": "Python 3",
      "name": "python3"
    },
    "language_info": {
      "name": "python"
    }
  },
  "nbformat": 4,
  "nbformat_minor": 0
}